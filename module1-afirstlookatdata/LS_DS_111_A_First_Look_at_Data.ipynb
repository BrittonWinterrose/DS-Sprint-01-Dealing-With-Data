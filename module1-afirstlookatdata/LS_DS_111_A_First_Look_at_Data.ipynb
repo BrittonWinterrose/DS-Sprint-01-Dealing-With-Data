{
  "nbformat": 4,
  "nbformat_minor": 0,
  "metadata": {
    "colab": {
      "name": "LS DS 111 - A First Look at Data.ipynb",
      "version": "0.3.2",
      "provenance": []
    },
    "kernelspec": {
      "name": "python3",
      "display_name": "Python 3"
    }
  },
  "cells": [
    {
      "metadata": {
        "id": "Okfr_uhwhS1X",
        "colab_type": "text"
      },
      "cell_type": "markdown",
      "source": [
        "# Lambda School Data Science - A First Look at Data\n",
        "\n"
      ]
    },
    {
      "metadata": {
        "id": "9dtJETFRhnOG",
        "colab_type": "text"
      },
      "cell_type": "markdown",
      "source": [
        "## Lecture - let's explore Python DS libraries and examples!\n",
        "\n",
        "The Python Data Science ecosystem is huge. You've seen some of the big pieces - pandas, scikit-learn, matplotlib. What parts do you want to see more of?"
      ]
    },
    {
      "metadata": {
        "id": "WiBkgmPJhmhE",
        "colab_type": "code",
        "colab": {}
      },
      "cell_type": "code",
      "source": [
        "# TODO - we'll be doing this live, taking requests\n",
        "# and reproducing what it is to look up and learn things"
      ],
      "execution_count": 0,
      "outputs": []
    },
    {
      "metadata": {
        "id": "lOqaPds9huME",
        "colab_type": "text"
      },
      "cell_type": "markdown",
      "source": [
        "## Assignment - now it's your turn\n",
        "\n",
        "Pick at least one Python DS library, and using documentation/examples reproduce in this notebook something cool. It's OK if you don't fully understand it or get it 100% working, but do put in effort and look things up."
      ]
    },
    {
      "metadata": {
        "id": "uTaUtc1GR-Jd",
        "colab_type": "text"
      },
      "cell_type": "markdown",
      "source": [
        "*I was watching this video from a meetup my friend was presenting a few months back because it blew my mind at the time and I really wanted to understand it: \n",
        "https://youtu.be/U-xf4scSB7o\n",
        "They used genetic GANs to create human images. \n",
        "Spooky good images.*\n",
        "\n",
        "*So I wanted to understand the GAN portion, because I roughly understand the broad concept of the genetic algorithim.*\n",
        "\n",
        "*And I came across this collab notebook that compared GANS and ran it.*\n",
        "\n",
        "https://colab.research.google.com/github/google/compare_gan/blob/master/compare_gan/src/tfhub_models.ipynb#scrollTo=65PLbu3MviWn  "
      ]
    },
    {
      "metadata": {
        "id": "BxTlNPM7GG66",
        "colab_type": "code",
        "colab": {}
      },
      "cell_type": "code",
      "source": [
        "#@title Imports, set up, and helper functions\n",
        "\n",
        "from google.colab import output\n",
        "\n",
        "import matplotlib.pyplot as plt\n",
        "\n",
        "import numpy as np\n",
        "import pandas as pd\n",
        "\n",
        "import tensorflow as tf\n",
        "import tensorflow_hub as hub\n",
        "\n",
        "\n",
        "tf.logging.set_verbosity(tf.logging.ERROR)\n",
        "\n",
        "\n",
        "# Get the module metadata for the GANs as a pandas DataFrame.\n",
        "module_metadata_dict = {'dataset': ['CelebA HQ (128x128)', 'CelebA HQ (128x128)', 'LSUN Bedroom', 'LSUN Bedroom', 'CelebA HQ (128x128)', 'CelebA HQ (128x128)', 'LSUN Bedroom', 'LSUN Bedroom', 'CelebA HQ (128x128)', 'LSUN Bedroom', 'CIFAR10', 'CIFAR10', 'CIFAR10', 'CIFAR10', 'CIFAR10'], 'penalty': ['-', '-', '-', '-', '-', '-', '-', '-', 'DRAGAN (lambda=1.000)', 'WGAN (lambda=0.145)', '-', '-', '-', '-', 'WGAN (lambda=1.000)'], 'architecture': ['ResNet19', 'ResNet19', 'ResNet19', 'ResNet19', 'ResNet19', 'ResNet19', 'ResNet19', 'ResNet19', 'ResNet19', 'ResNet19', 'ResNet CIFAR', 'ResNet CIFAR', 'ResNet CIFAR', 'ResNet CIFAR', 'ResNet CIFAR'], 'beta1': ['0.375', '0.500', '0.585', '0.195', '0.500', '0.500', '0.500', '0.102', '0.500', '0.711', '0.500', '0.500', '0.500', '0.500', '0.500'], 'beta2': ['0.998', '0.999', '0.990', '0.882', '0.999', '0.999', '0.999', '0.998', '0.900', '0.979', '0.999', '0.999', '0.999', '0.999', '0.999'], 'module_url': ['https://tfhub.dev/google/compare_gan/model_1_celebahq128_resnet19/1', 'https://tfhub.dev/google/compare_gan/model_2_celebahq128_resnet19/1', 'https://tfhub.dev/google/compare_gan/model_3_lsun_bedroom_resnet19/1', 'https://tfhub.dev/google/compare_gan/model_4_lsun_bedroom_resnet19/1', 'https://tfhub.dev/google/compare_gan/model_5_celebahq128_resnet19/1', 'https://tfhub.dev/google/compare_gan/model_6_celebahq128_resnet19/1', 'https://tfhub.dev/google/compare_gan/model_7_lsun_bedroom_resnet19/1', 'https://tfhub.dev/google/compare_gan/model_8_lsun_bedroom_resnet19/1', 'https://tfhub.dev/google/compare_gan/model_9_celebahq128_resnet19/1', 'https://tfhub.dev/google/compare_gan/model_10_lsun_bedroom_resnet19/1', 'https://tfhub.dev/google/compare_gan/model_11_cifar10_resnet_cifar/1', 'https://tfhub.dev/google/compare_gan/model_12_cifar10_resnet_cifar/1', 'https://tfhub.dev/google/compare_gan/model_13_cifar10_resnet_cifar/1', 'https://tfhub.dev/google/compare_gan/model_14_cifar10_resnet_cifar/1', 'https://tfhub.dev/google/compare_gan/model_15_cifar10_resnet_cifar/1'], 'disc_iters': [1, 1, 1, 1, 1, 1, 1, 1, 5, 1, 5, 5, 5, 5, 5], 'model': ['Non-saturating GAN', 'Non-saturating GAN', 'Least-squares GAN', 'Non-saturating GAN', 'Non-saturating GAN', 'Non-saturating GAN', 'Least-squares GAN', 'Non-saturating GAN', 'Non-saturating GAN', 'Non-saturating GAN', 'Non-saturating GAN', 'Non-saturating GAN', 'Non-saturating GAN', 'Non-saturating GAN', 'Non-saturating GAN'], 'inception_score': ['2.38', '2.59', '4.23', '4.10', '2.38', '2.54', '3.64', '3.58', '2.34', '3.92', '7.57', '7.47', '7.74', '7.74', '7.70'], 'disc_norm': ['none', 'none', 'none', 'none', 'layer_norm', 'layer_norm', 'spectral_norm', 'spectral_norm', 'layer_norm', 'layer_norm', 'none', 'none', 'spectral_norm', 'spectral_norm', 'spectral_norm'], 'fid': ['34.29', '35.85', '102.74', '112.92', '30.02', '32.05', '41.60', '42.51', '29.13', '40.36', '28.12', '30.08', '22.91', '23.22', '22.73'], 'ms_ssim_score': ['0.32', '0.29', 'N/A', 'N/A', '0.29', '0.28', 'N/A', 'N/A', '0.30', 'N/A', 'N/A', 'N/A', 'N/A', 'N/A', 'N/A'], 'learning_rate': ['3.381e-05', '1.000e-04', '3.220e-05', '1.927e-05', '1.000e-04', '1.000e-04', '2.000e-04', '2.851e-04', '1.000e-04', '1.281e-04', '2.000e-04', '1.000e-04', '2.000e-04', '2.000e-04', '2.000e-04']}\n",
        "MODULE_METADATA = pd.DataFrame.from_dict(module_metadata_dict)\n",
        "\n",
        "# To start, select the module with the lowest FID score.\n",
        "MIN_FID_MODULE = MODULE_METADATA.loc[\n",
        "    MODULE_METADATA['fid'].astype(float).idxmin()]\n",
        "\n",
        "SELECTED_MODULE = MIN_FID_MODULE['module_url']\n",
        "SELECTED_MODULE_DATASET = MIN_FID_MODULE['dataset']\n",
        "\n",
        "\n",
        "# Display multiple images in the same figure.\n",
        "def display_images(images, captions=None):\n",
        "  batch_size, dim1, dim2, channels = images.shape\n",
        "  num_horizontally = 8\n",
        "  \n",
        "  # Use a smaller figure size for the CIFAR10 images\n",
        "  figsize = (20, 20) if dim1 > 32 else (10, 10)\n",
        "  f, axes = plt.subplots(\n",
        "      len(images) // num_horizontally, num_horizontally, figsize=figsize)\n",
        "  for i in range(len(images)):\n",
        "    axes[i // num_horizontally, i % num_horizontally].axis(\"off\")\n",
        "    if captions is not None:\n",
        "      axes[i // num_horizontally, i % num_horizontally].text(0, -3, captions[i])\n",
        "    axes[i // num_horizontally, i % num_horizontally].imshow(images[i])\n",
        "  f.tight_layout()\n",
        "  \n",
        "\n",
        "# Show the HTML for the module table\n",
        "class ShowModuleTable(object):\n",
        "  def __init__(self, callback):\n",
        "    self._callback = callback\n",
        "\n",
        "  def _repr_html_(self):\n",
        "    # Set up the template with some nice CSS.\n",
        "    template = \"\"\"\n",
        "    <style>\n",
        "       table {\n",
        "         font-size: 15px;\n",
        "         font-family: Inconsolata, monospace;\n",
        "         border-collapse: collapse;\n",
        "         border: 1px solid #444444;\n",
        "       }\n",
        "       th {\n",
        "         font-size: 18px;\n",
        "         background-color: #DDDDDD;\n",
        "         border: 1px solid #AAAAAA;\n",
        "         white-space: nowrap;\n",
        "       }\n",
        "       tr {\n",
        "         cursor: pointer;\n",
        "         white-space: nowrap;\n",
        "       }\n",
        "       td {\n",
        "         padding: 6px 6px 6px 6px;\n",
        "         border: 1px solid #AAAAAA;\n",
        "       }\n",
        "      .selected-row {\n",
        "        font-weight: bold;\n",
        "        background-color: #B0BED9;\n",
        "      }\n",
        "    </style>\n",
        "    <table>\"\"\"\n",
        "    \n",
        "    # Set up the headers with nicely readable names\n",
        "    table_headers = [\n",
        "      ('dataset', 'Dataset'),\n",
        "      ('architecture', 'Architecture'),\n",
        "      ('fid', 'FID'),\n",
        "      ('inception_score', 'IS'),\n",
        "      ('ms_ssim_score', 'MS-SSIM'),\n",
        "      ('model', 'Model'),\n",
        "      ('learning_rate', 'Learning rate'),\n",
        "      ('beta1', '&beta;<sub>1</sub>'),\n",
        "      ('beta2', '&beta;<sub>2</sub>'),\n",
        "      ('disc_iters', 'n<sub>disc</sub>'),\n",
        "      ('disc_norm', 'Disc norm'),\n",
        "      ('penalty', 'Penalty'),\n",
        "      ('module_url', 'Module name'),\n",
        "    ]\n",
        "    header_template = \"<tr>\"\n",
        "    for _, header_name in table_headers:\n",
        "      header_template += \"<th>\" + header_name + \"</th>\"\n",
        "    header_template += \"</tr>\"\n",
        "    template += header_template\n",
        "    \n",
        "    for i, (_, row) in enumerate(MODULE_METADATA.iterrows()):\n",
        "      uuid = \"row-%s\" % i\n",
        "      \n",
        "      # Reister the callback for every row.\n",
        "      output.register_callback(uuid, self._callback)\n",
        "      \n",
        "      # By default select the module with the min FID.\n",
        "      selected_class = \"\"\n",
        "      if row['module_url'] == MIN_FID_MODULE['module_url']:\n",
        "        selected_class = \"class=\\\"selected-row\\\"\"\n",
        "\n",
        "      # Get the metadata for each row.\n",
        "      row_template = \"<tr id=\\\"\" + uuid + \"\\\"\" + selected_class + \">\"\n",
        "      for key, _ in table_headers:\n",
        "        row_template += \"<td>\" + str(row[key]) + \"</td>\"\n",
        "      row_template += \"</tr>\"\n",
        "      template += row_template\n",
        "      \n",
        "    # Add the onclick handlers for the table rows.\n",
        "    template += \"\"\"\n",
        "      </table>\n",
        "      <script>\"\"\"\n",
        "    \n",
        "    for i, (_, row) in enumerate(MODULE_METADATA.iterrows()):\n",
        "      uuid = \"row-%s\" % i\n",
        "      m = row['module_url']\n",
        "      d = row['dataset']\n",
        "      template += \"\"\"\n",
        "        document.querySelector(\\\"#\"\"\" + uuid + \"\"\"\\\").onclick = function() {\n",
        "          google.colab.kernel.invokeFunction('\"\"\" + uuid + \"\"\"', ['\"\"\" + m +\"\"\"', '\"\"\" + d + \"\"\"'], {});\n",
        "          var selected = document.getElementsByClassName('selected-row');\n",
        "          for (var i = 0; i < selected.length; i++) {\n",
        "            selected[i].classList.remove('selected-row');\n",
        "          }\n",
        "          this.classList.toggle(\"selected-row\");\n",
        "          e.preventDefault();\n",
        "        };\n",
        "        \"\"\"\n",
        "    template += \"\"\"</script>\"\"\"\n",
        "    return template\n",
        "\n",
        "\n",
        "def set_selected_module(module_name, dataset):\n",
        "  # Assign the selected module and dataset to the global variables\n",
        "  global SELECTED_MODULE\n",
        "  SELECTED_MODULE = module_name\n",
        "  global SELECTED_MODULE_DATASET\n",
        "  SELECTED_MODULE_DATASET = dataset"
      ],
      "execution_count": 0,
      "outputs": []
    },
    {
      "metadata": {
        "id": "n18GlRgMJyFI",
        "colab_type": "code",
        "colab": {}
      },
      "cell_type": "code",
      "source": [
        "#@title Run this cell and select which GAN module to use below\n",
        "\n",
        "ShowModuleTable(set_selected_module)"
      ],
      "execution_count": 0,
      "outputs": []
    },
    {
      "metadata": {
        "id": "sousaqkYTjxr",
        "colab_type": "code",
        "colab": {}
      },
      "cell_type": "code",
      "source": [
        "assert SELECTED_MODULE is not None and SELECTED_MODULE_DATASET is not None, \\\n",
        "  'You must run the above cell and select a module from the table to generate images.'\n",
        "\n",
        "print('Using module: \"%s\"' % SELECTED_MODULE)\n",
        "print('Generating images like dataset: \"%s\"' % SELECTED_MODULE_DATASET)\n",
        "\n",
        "# The generator expects a batch of 64 vectors of size 128\n",
        "batch_size = 64\n",
        "z_dim = 128\n",
        "\n",
        "with tf.Graph().as_default():\n",
        "  # Load the selected module\n",
        "  gan = hub.Module(SELECTED_MODULE)\n",
        "  z_input = tf.placeholder(dtype=tf.float32, shape=(batch_size, z_dim))\n",
        "  image_output = gan(z_input, signature=\"generator\") \n",
        "  \n",
        "  with tf.train.MonitoredSession() as session:\n",
        "    # Generate 64 random vectors as input to the latent space to generate images\n",
        "    z_values = np.random.uniform(-1, 1, size=(batch_size, z_dim))\n",
        "    images = session.run(image_output, feed_dict={z_input: z_values})\n",
        "\n",
        "    # View the resulting images\n",
        "    display_images(images)"
      ],
      "execution_count": 0,
      "outputs": []
    },
    {
      "metadata": {
        "id": "BT9gdS7viJZa",
        "colab_type": "text"
      },
      "cell_type": "markdown",
      "source": [
        "### Assignment questions\n",
        "\n",
        "After you've worked on some code, answer the following questions in this text block:\n",
        "\n",
        "1.  Describe in a paragraph of text what you did and why, as if you were writing an email to somebody interested but nontechnical.\n",
        "\n",
        "2.  What was the most challenging part of what you did?\n",
        "\n",
        "3.  What was the most interesting thing you learned?\n",
        "\n",
        "4.  What area would you like to explore with more time?\n",
        "\n",
        "\n"
      ]
    },
    {
      "metadata": {
        "id": "_XXg2crAipwP",
        "colab_type": "text"
      },
      "cell_type": "markdown",
      "source": [
        "## Stretch goals and resources\n",
        "\n",
        "Following are *optional* things for you to take a look at. Focus on the above assignment first, and make sure to commit and push your changes to GitHub (and since this is the first assignment of the sprint, open a PR as well).\n",
        "\n",
        "- [pandas documentation](https://pandas.pydata.org/pandas-docs/stable/)\n",
        "- [scikit-learn documentation](http://scikit-learn.org/stable/documentation.html)\n",
        "- [matplotlib documentation](https://matplotlib.org/contents.html)\n",
        "- [Awesome Data Science](https://github.com/bulutyazilim/awesome-datascience) - a list of many types of DS resources\n",
        "\n",
        "Stretch goals:\n",
        "\n",
        "- Find and read blogs, walkthroughs, and other examples of people working through cool things with data science - and share with your classmates!\n",
        "- Write a blog post (Medium is a popular place to publish) introducing yourself as somebody learning data science, and talking about what you've learned already and what you're excited to learn more about"
      ]
    }
  ]
}